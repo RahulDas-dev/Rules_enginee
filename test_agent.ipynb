{
 "cells": [
  {
   "cell_type": "code",
   "execution_count": 1,
   "id": "6abbf69a-621f-4d94-a914-ab449e68d80d",
   "metadata": {},
   "outputs": [],
   "source": [
    "import json\n",
    "import logging\n",
    "from pathlib import Path\n",
    "\n",
    "from dotenv import load_dotenv\n",
    "\n",
    "from src.core.agent import SYSTEM_MESSAGE, TASK, Agent\n",
    "from src.core.dataloader import XmlLoader\n",
    "from src.core.transformer import RemovePrefix"
   ]
  },
  {
   "cell_type": "code",
   "execution_count": 2,
   "id": "dc7b60de-dd7f-4d7a-83cb-66dda30538ee",
   "metadata": {},
   "outputs": [],
   "source": [
    "logging.basicConfig(\n",
    "    format=\"%(asctime)s - %(levelname)s - %(name)s - %(funcName)s:%(lineno)d - %(message)s\",\n",
    "    # format=\"%(message)s\",\n",
    "    level=logging.INFO,\n",
    "    handlers=[logging.StreamHandler()],\n",
    ")\n",
    "loading_status = load_dotenv(verbose=True)\n",
    "logger = logging.getLogger(__name__)\n",
    "\n",
    "LLM_CONFIG = {\"model\": \"gpt-4o\"}\n",
    "SCHEMA_PATH = Path() / \"data\" / \"data_schema.json\"\n",
    "DATA_DIR = Path() / \"data\" / \"sample\""
   ]
  },
  {
   "cell_type": "code",
   "execution_count": 4,
   "id": "a8abbd20-15ce-4ba8-8515-e76f6d0f52a8",
   "metadata": {},
   "outputs": [],
   "source": [
    "rules_str = \"\"\"\n",
    "1. Score < 650 THEN Reject\n",
    "    Rule: If the credit score is less than 650, the applicant is rejected.\n",
    "2. More than 2 PAN IDs THEN Reject\n",
    "    Rule: If there are more than two PAN IDs, the applicant is rejected.\n",
    "3. TotalInquiries > 3 THEN Reject\n",
    "    Rule: If the number of total inquiries exceeds 3, the applicant is rejected.\n",
    "4. if any Account of AccountType Excluding Credit Cards\n",
    "    a. SuitFiledStatus = Yes THEN Reject\n",
    "    Rule: If any Account has a 'Suit Filed' status as 'Yes', the applicant is rejected.\n",
    "    b. WriteOffAmount > 0 THEN Reject\n",
    "    Rule: If any Account has a WriteOffAmount greater than 0, the applicant is rejected.\n",
    "    c. PastDueAmount > 1,500 and DateReported < 12 months THEN Reject\n",
    "    Rule: If any Account has a PastDueAmount greater than 1,500, and DateReported is within the last 12 months and the\n",
    "    PaymentStatus in any of the past 12 months is one of the listed delinquency statuses, the applicant is rejected.\n",
    "    d. AccountStatus in {WDF, SUB, DBT, etc.} THEN Reject\n",
    "    Rule: If any account has a status in the listed statuses, the applicant is rejected.\n",
    "    e. PastDueAmount > 1,500 and DateReported > 12 months THEN Reject\n",
    "    Rule: If any Account has a PastDueAmount greater than 1,500, DateReported is more than 12 months ago, and\n",
    "    PaymentStatus in any of the past 6 months indicates delinquency, the applicant is rejected.\n",
    "5. if any Account of AccountType = Credit Card  and PastDueAmount > 5,000 THEN Reject\n",
    "    Rule: If any credit card account has a PastDueAmount greater than 5,000, the applicant is rejected.\n",
    "\"\"\"\n",
    "\n",
    "\n",
    "with open(SCHEMA_PATH, \"r\") as f:\n",
    "    json_schema = json.load(f)\n",
    "\n",
    "data = []\n",
    "data_id = 1\n",
    "for file_path in DATA_DIR.glob(\"*.html\"):\n",
    "    loder = XmlLoader.from_path(file_path)\n",
    "    d = RemovePrefix().transform(loder.document)\n",
    "    data.append({\"id\": data_id, \"data\": d})\n",
    "    data_id += 1"
   ]
  },
  {
   "cell_type": "code",
   "execution_count": 4,
   "id": "8b2072a0",
   "metadata": {},
   "outputs": [],
   "source": [
    "# system_message = SYSTEM_MESSAGE.format(RULES=rules_str, JSON_SCHEMA=json_schema)\n",
    "# print(system_message)"
   ]
  },
  {
   "cell_type": "code",
   "execution_count": 5,
   "id": "bc71b2b9-a602-4a6c-af41-9d6b34b53f60",
   "metadata": {},
   "outputs": [
    {
     "name": "stderr",
     "output_type": "stream",
     "text": [
      "\u001b[92m00:17:24 - LiteLLM:INFO\u001b[0m: utils.py:2952 - \n",
      "LiteLLM completion() model= gpt-4o; provider = openai\n",
      "2024-10-22 00:17:24,162 - INFO - LiteLLM - _check_valid_arg:2952 - \n",
      "LiteLLM completion() model= gpt-4o; provider = openai\n",
      "2024-10-22 00:17:25,271 - INFO - httpx - _send_single_request:1038 - HTTP Request: POST https://api.openai.com/v1/chat/completions \"HTTP/1.1 200 OK\"\n",
      "\u001b[32mTo\u001b[0m\u001b[32m create\u001b[0m\u001b[32m the\u001b[0m\u001b[32m `\u001b[0m\u001b[32mevaluate\u001b[0m\u001b[32m_credit\u001b[0m\u001b[32m_score\u001b[0m\u001b[32m`\u001b[0m\u001b[32m function\u001b[0m\u001b[32m,\u001b[0m\u001b[32m let's\u001b[0m\u001b[32m first\u001b[0m\u001b[32m reflect\u001b[0m\u001b[32m on\u001b[0m\u001b[32m the\u001b[0m\u001b[32m rules\u001b[0m\u001b[32m and\u001b[0m\u001b[32m the\u001b[0m\u001b[32m JSON\u001b[0m\u001b[32m schema\u001b[0m\u001b[32m to\u001b[0m\u001b[32m identify\u001b[0m\u001b[32m the\u001b[0m\u001b[32m necessary\u001b[0m\u001b[32m attributes\u001b[0m\u001b[32m and\u001b[0m\u001b[32m their\u001b[0m\u001b[32m types\u001b[0m\u001b[32m.\u001b[0m\u001b[32m This\u001b[0m\u001b[32m will\u001b[0m\u001b[32m help\u001b[0m\u001b[32m us\u001b[0m\u001b[32m understand\u001b[0m\u001b[32m what\u001b[0m\u001b[32m data\u001b[0m\u001b[32m we\u001b[0m\u001b[32m need\u001b[0m\u001b[32m to\u001b[0m\u001b[32m extract\u001b[0m\u001b[32m and\u001b[0m\u001b[32m how\u001b[0m\u001b[32m to\u001b[0m\u001b[32m process\u001b[0m\u001b[32m it\u001b[0m\u001b[32m.\n",
      "\n",
      "\u001b[0m\u001b[32m###\u001b[0m\u001b[32m Reflection\u001b[0m\u001b[32m on\u001b[0m\u001b[32m Rules\u001b[0m\u001b[32m and\u001b[0m\u001b[32m Schema\u001b[0m\u001b[32m\n",
      "\n",
      "\u001b[0m\u001b[32m1\u001b[0m\u001b[32m.\u001b[0m\u001b[32m **\u001b[0m\u001b[32mScore\u001b[0m\u001b[32m <\u001b[0m\u001b[32m \u001b[0m\u001b[32m650\u001b[0m\u001b[32m THEN\u001b[0m\u001b[32m Reject\u001b[0m\u001b[32m**\n",
      "\u001b[0m\u001b[32m  \u001b[0m\u001b[32m -\u001b[0m\u001b[32m Attribute\u001b[0m\u001b[32m:\u001b[0m\u001b[32m `\u001b[0m\u001b[32mScore\u001b[0m\u001b[32m.Value\u001b[0m\u001b[32m`\n",
      "\u001b[0m\u001b[32m  \u001b[0m\u001b[32m -\u001b[0m\u001b[32m Type\u001b[0m\u001b[32m:\u001b[0m\u001b[32m String\u001b[0m\u001b[32m (\u001b[0m\u001b[32mneeds\u001b[0m\u001b[32m to\u001b[0m\u001b[32m be\u001b[0m\u001b[32m converted\u001b[0m\u001b[32m to\u001b[0m\u001b[32m integer\u001b[0m\u001b[32m for\u001b[0m\u001b[32m comparison\u001b[0m\u001b[32m)\n",
      "\n",
      "\u001b[0m\u001b[32m2\u001b[0m\u001b[32m.\u001b[0m\u001b[32m **\u001b[0m\u001b[32mMore\u001b[0m\u001b[32m than\u001b[0m\u001b[32m \u001b[0m\u001b[32m2\u001b[0m\u001b[32m PAN\u001b[0m\u001b[32m IDs\u001b[0m\u001b[32m THEN\u001b[0m\u001b[32m Reject\u001b[0m\u001b[32m**\n",
      "\u001b[0m\u001b[32m  \u001b[0m\u001b[32m -\u001b[0m\u001b[32m Attribute\u001b[0m\u001b[32m:\u001b[0m\u001b[32m `\u001b[0m\u001b[32mID\u001b[0m\u001b[32mAnd\u001b[0m\u001b[32mContact\u001b[0m\u001b[32mInfo\u001b[0m\u001b[32m.Identity\u001b[0m\u001b[32mInfo\u001b[0m\u001b[32m.P\u001b[0m\u001b[32mAN\u001b[0m\u001b[32mId\u001b[0m\u001b[32m`\n",
      "\u001b[0m\u001b[32m  \u001b[0m\u001b[32m -\u001b[0m\u001b[32m Type\u001b[0m\u001b[32m:\u001b[0m\u001b[32m Object\u001b[0m\u001b[32m (\u001b[0m\u001b[32mwe\u001b[0m\u001b[32m need\u001b[0m\u001b[32m to\u001b[0m\u001b[32m count\u001b[0m\u001b[32m the\u001b[0m\u001b[32m number\u001b[0m\u001b[32m of\u001b[0m\u001b[32m PAN\u001b[0m\u001b[32m IDs\u001b[0m\u001b[32m)\n",
      "\n",
      "\u001b[0m\u001b[32m3\u001b[0m\u001b[32m.\u001b[0m\u001b[32m **\u001b[0m\u001b[32mTotal\u001b[0m\u001b[32mIn\u001b[0m\u001b[32mquiries\u001b[0m\u001b[32m >\u001b[0m\u001b[32m \u001b[0m\u001b[32m3\u001b[0m\u001b[32m THEN\u001b[0m\u001b[32m Reject\u001b[0m\u001b[32m**\n",
      "\u001b[0m\u001b[32m  \u001b[0m\u001b[32m -\u001b[0m\u001b[32m Attribute\u001b[0m\u001b[32m:\u001b[0m\u001b[32m `\u001b[0m\u001b[32mRecent\u001b[0m\u001b[32mActivities\u001b[0m\u001b[32m.Total\u001b[0m\u001b[32mIn\u001b[0m\u001b[32mquiries\u001b[0m\u001b[32m`\n",
      "\u001b[0m\u001b[32m  \u001b[0m\u001b[32m -\u001b[0m\u001b[32m Type\u001b[0m\u001b[32m:\u001b[0m\u001b[32m String\u001b[0m\u001b[32m (\u001b[0m\u001b[32mneeds\u001b[0m\u001b[32m to\u001b[0m\u001b[32m be\u001b[0m\u001b[32m converted\u001b[0m\u001b[32m to\u001b[0m\u001b[32m integer\u001b[0m\u001b[32m for\u001b[0m\u001b[32m comparison\u001b[0m\u001b[32m)\n",
      "\n",
      "\u001b[0m\u001b[32m4\u001b[0m\u001b[32m.\u001b[0m\u001b[32m **\u001b[0m\u001b[32mAccount\u001b[0m\u001b[32m Rules\u001b[0m\u001b[32m**\n",
      "\u001b[0m\u001b[32m  \u001b[0m\u001b[32m -\u001b[0m\u001b[32m Attributes\u001b[0m\u001b[32m:\u001b[0m\u001b[32m Various\u001b[0m\u001b[32m attributes\u001b[0m\u001b[32m within\u001b[0m\u001b[32m `\u001b[0m\u001b[32mAccount\u001b[0m\u001b[32mDetails\u001b[0m\u001b[32m.Account\u001b[0m\u001b[32m`\n",
      "\u001b[0m\u001b[32m  \u001b[0m\u001b[32m -\u001b[0m\u001b[32m Types\u001b[0m\u001b[32m:\u001b[0m\u001b[32m \n",
      "\u001b[0m\u001b[32m    \u001b[0m\u001b[32m -\u001b[0m\u001b[32m `\u001b[0m\u001b[32mSuit\u001b[0m\u001b[32mFiled\u001b[0m\u001b[32mStatus\u001b[0m\u001b[32m`:\u001b[0m\u001b[32m String\u001b[0m\u001b[32m\n",
      "\u001b[0m\u001b[32m    \u001b[0m\u001b[32m -\u001b[0m\u001b[32m `\u001b[0m\u001b[32mPast\u001b[0m\u001b[32mDue\u001b[0m\u001b[32mAmount\u001b[0m\u001b[32m`:\u001b[0m\u001b[32m String\u001b[0m\u001b[32m (\u001b[0m\u001b[32mneeds\u001b[0m\u001b[32m to\u001b[0m\u001b[32m be\u001b[0m\u001b[32m converted\u001b[0m\u001b[32m to\u001b[0m\u001b[32m integer\u001b[0m\u001b[32m)\n",
      "\u001b[0m\u001b[32m    \u001b[0m\u001b[32m -\u001b[0m\u001b[32m `\u001b[0m\u001b[32mDate\u001b[0m\u001b[32mReported\u001b[0m\u001b[32m`:\u001b[0m\u001b[32m String\u001b[0m\u001b[32m (\u001b[0m\u001b[32mdate\u001b[0m\u001b[32m comparison\u001b[0m\u001b[32m needed\u001b[0m\u001b[32m)\n",
      "\u001b[0m\u001b[32m    \u001b[0m\u001b[32m -\u001b[0m\u001b[32m `\u001b[0m\u001b[32mAccount\u001b[0m\u001b[32mStatus\u001b[0m\u001b[32m`:\u001b[0m\u001b[32m String\u001b[0m\u001b[32m\n",
      "\u001b[0m\u001b[32m    \u001b[0m\u001b[32m -\u001b[0m\u001b[32m `\u001b[0m\u001b[32mAccount\u001b[0m\u001b[32mType\u001b[0m\u001b[32m`:\u001b[0m\u001b[32m String\u001b[0m\u001b[32m\n",
      "\n",
      "\u001b[0m\u001b[32m5\u001b[0m\u001b[32m.\u001b[0m\u001b[32m **\u001b[0m\u001b[32mCredit\u001b[0m\u001b[32m Card\u001b[0m\u001b[32m Specific\u001b[0m\u001b[32m Rule\u001b[0m\u001b[32m**\n",
      "\u001b[0m\u001b[32m  \u001b[0m\u001b[32m -\u001b[0m\u001b[32m Attribute\u001b[0m\u001b[32m:\u001b[0m\u001b[32m `\u001b[0m\u001b[32mPast\u001b[0m\u001b[32mDue\u001b[0m\u001b[32mAmount\u001b[0m\u001b[32m`\u001b[0m\u001b[32m for\u001b[0m\u001b[32m `\u001b[0m\u001b[32mAccount\u001b[0m\u001b[32mType\u001b[0m\u001b[32m =\u001b[0m\u001b[32m Credit\u001b[0m\u001b[32m Card\u001b[0m\u001b[32m`\n",
      "\u001b[0m\u001b[32m  \u001b[0m\u001b[32m -\u001b[0m\u001b[32m Type\u001b[0m\u001b[32m:\u001b[0m\u001b[32m String\u001b[0m\u001b[32m (\u001b[0m\u001b[32mneeds\u001b[0m\u001b[32m to\u001b[0m\u001b[32m be\u001b[0m\u001b[32m converted\u001b[0m\u001b[32m to\u001b[0m\u001b[32m integer\u001b[0m\u001b[32m)\n",
      "\n",
      "\u001b[0m\u001b[32m###\u001b[0m\u001b[32m Data\u001b[0m\u001b[32m Type\u001b[0m\u001b[32m Reflection\u001b[0m\u001b[32m\n",
      "\n",
      "\u001b[0m\u001b[32m-\u001b[0m\u001b[32m Convert\u001b[0m\u001b[32m `\u001b[0m\u001b[32mScore\u001b[0m\u001b[32m.Value\u001b[0m\u001b[32m`\u001b[0m\u001b[32m and\u001b[0m\u001b[32m `\u001b[0m\u001b[32mRecent\u001b[0m\u001b[32mActivities\u001b[0m\u001b[32m.Total\u001b[0m\u001b[32mIn\u001b[0m\u001b[32mquiries\u001b[0m\u001b[32m`\u001b[0m\u001b[32m to\u001b[0m\u001b[32m integers\u001b[0m\u001b[32m.\n",
      "\u001b[0m\u001b[32m-\u001b[0m\u001b[32m Convert\u001b[0m\u001b[32m `\u001b[0m\u001b[32mPast\u001b[0m\u001b[32mDue\u001b[0m\u001b[32mAmount\u001b[0m\u001b[32m`\u001b[0m\u001b[32m to\u001b[0m\u001b[32m integer\u001b[0m\u001b[32m for\u001b[0m\u001b[32m comparison\u001b[0m\u001b[32m.\n",
      "\u001b[0m\u001b[32m-\u001b[0m\u001b[32m Use\u001b[0m\u001b[32m `\u001b[0m\u001b[32mdatetime\u001b[0m\u001b[32m`\u001b[0m\u001b[32m for\u001b[0m\u001b[32m date\u001b[0m\u001b[32m comparisons\u001b[0m\u001b[32m.\n",
      "\n",
      "\u001b[0m\u001b[32m###\u001b[0m\u001b[32m Implementation\u001b[0m\u001b[32m\n",
      "\n",
      "\u001b[0m\u001b[32mNow\u001b[0m\u001b[32m,\u001b[0m\u001b[32m let's\u001b[0m\u001b[32m implement\u001b[0m\u001b[32m the\u001b[0m\u001b[32m function\u001b[0m\u001b[32m based\u001b[0m\u001b[32m on\u001b[0m\u001b[32m these\u001b[0m\u001b[32m reflections\u001b[0m\u001b[32m:\n",
      "\n",
      "\u001b[0m\u001b[32m```\u001b[0m\u001b[32mpython\u001b[0m\u001b[32m\n",
      "\u001b[0m\u001b[32m<\u001b[0m\u001b[32mpy\u001b[0m\u001b[32mfunction\u001b[0m\u001b[32m>\n",
      "\u001b[0m\u001b[32mfrom\u001b[0m\u001b[32m datetime\u001b[0m\u001b[32m import\u001b[0m\u001b[32m datetime\u001b[0m\u001b[32m\n",
      "\n",
      "\u001b[0m\u001b[32mdef\u001b[0m\u001b[32m evaluate\u001b[0m\u001b[32m_credit\u001b[0m\u001b[32m_score\u001b[0m\u001b[32m(data\u001b[0m\u001b[32m):\n",
      "\u001b[0m\u001b[32m   \u001b[0m\u001b[32m #\u001b[0m\u001b[32m Rule\u001b[0m\u001b[32m \u001b[0m\u001b[32m1\u001b[0m\u001b[32m:\u001b[0m\u001b[32m Score\u001b[0m\u001b[32m <\u001b[0m\u001b[32m \u001b[0m\u001b[32m650\u001b[0m\u001b[32m\n",
      "\u001b[0m\u001b[32m   \u001b[0m\u001b[32m score\u001b[0m\u001b[32m_value\u001b[0m\u001b[32m =\u001b[0m\u001b[32m int\u001b[0m\u001b[32m(data\u001b[0m\u001b[32m.get\u001b[0m\u001b[32m('\u001b[0m\u001b[32mScore\u001b[0m\u001b[32m',\u001b[0m\u001b[32m {}).\u001b[0m\u001b[32mget\u001b[0m\u001b[32m('\u001b[0m\u001b[32mValue\u001b[0m\u001b[32m',\u001b[0m\u001b[32m '\u001b[0m\u001b[32m0\u001b[0m\u001b[32m'))\n",
      "\u001b[0m\u001b[32m   \u001b[0m\u001b[32m if\u001b[0m\u001b[32m score\u001b[0m\u001b[32m_value\u001b[0m\u001b[32m <\u001b[0m\u001b[32m \u001b[0m\u001b[32m650\u001b[0m\u001b[32m:\n",
      "\u001b[0m\u001b[32m       \u001b[0m\u001b[32m return\u001b[0m\u001b[32m '\u001b[0m\u001b[32mRejected\u001b[0m\u001b[32m'\n",
      "\u001b[0m\u001b[32m    \n",
      "\u001b[0m\u001b[32m   \u001b[0m\u001b[32m #\u001b[0m\u001b[32m Rule\u001b[0m\u001b[32m \u001b[0m\u001b[32m2\u001b[0m\u001b[32m:\u001b[0m\u001b[32m More\u001b[0m\u001b[32m than\u001b[0m\u001b[32m \u001b[0m\u001b[32m2\u001b[0m\u001b[32m PAN\u001b[0m\u001b[32m IDs\u001b[0m\u001b[32m\n",
      "\u001b[0m\u001b[32m   \u001b[0m\u001b[32m pan\u001b[0m\u001b[32m_id\u001b[0m\u001b[32m_count\u001b[0m\u001b[32m =\u001b[0m\u001b[32m len\u001b[0m\u001b[32m(data\u001b[0m\u001b[32m.get\u001b[0m\u001b[32m('\u001b[0m\u001b[32mID\u001b[0m\u001b[32mAnd\u001b[0m\u001b[32mContact\u001b[0m\u001b[32mInfo\u001b[0m\u001b[32m',\u001b[0m\u001b[32m {}).\u001b[0m\u001b[32mget\u001b[0m\u001b[32m('\u001b[0m\u001b[32mIdentity\u001b[0m\u001b[32mInfo\u001b[0m\u001b[32m',\u001b[0m\u001b[32m {}).\u001b[0m\u001b[32mget\u001b[0m\u001b[32m('\u001b[0m\u001b[32mPAN\u001b[0m\u001b[32mId\u001b[0m\u001b[32m',\u001b[0m\u001b[32m []\u001b[0m\u001b[32m))\n",
      "\u001b[0m\u001b[32m   \u001b[0m\u001b[32m if\u001b[0m\u001b[32m pan\u001b[0m\u001b[32m_id\u001b[0m\u001b[32m_count\u001b[0m\u001b[32m >\u001b[0m\u001b[32m \u001b[0m\u001b[32m2\u001b[0m\u001b[32m:\n",
      "\u001b[0m\u001b[32m       \u001b[0m\u001b[32m return\u001b[0m\u001b[32m '\u001b[0m\u001b[32mRejected\u001b[0m\u001b[32m'\n",
      "\u001b[0m\u001b[32m    \n",
      "\u001b[0m\u001b[32m   \u001b[0m\u001b[32m #\u001b[0m\u001b[32m Rule\u001b[0m\u001b[32m \u001b[0m\u001b[32m3\u001b[0m\u001b[32m:\u001b[0m\u001b[32m Total\u001b[0m\u001b[32mIn\u001b[0m\u001b[32mquiries\u001b[0m\u001b[32m >\u001b[0m\u001b[32m \u001b[0m\u001b[32m3\u001b[0m\u001b[32m\n",
      "\u001b[0m\u001b[32m   \u001b[0m\u001b[32m total\u001b[0m\u001b[32m_in\u001b[0m\u001b[32mquiries\u001b[0m\u001b[32m =\u001b[0m\u001b[32m int\u001b[0m\u001b[32m(data\u001b[0m\u001b[32m.get\u001b[0m\u001b[32m('\u001b[0m\u001b[32mRecent\u001b[0m\u001b[32mActivities\u001b[0m\u001b[32m',\u001b[0m\u001b[32m {}).\u001b[0m\u001b[32mget\u001b[0m\u001b[32m('\u001b[0m\u001b[32mTotal\u001b[0m\u001b[32mIn\u001b[0m\u001b[32mquiries\u001b[0m\u001b[32m',\u001b[0m\u001b[32m '\u001b[0m\u001b[32m0\u001b[0m\u001b[32m'))\n",
      "\u001b[0m\u001b[32m   \u001b[0m\u001b[32m if\u001b[0m\u001b[32m total\u001b[0m\u001b[32m_in\u001b[0m\u001b[32mquiries\u001b[0m\u001b[32m >\u001b[0m\u001b[32m \u001b[0m\u001b[32m3\u001b[0m\u001b[32m:\n",
      "\u001b[0m\u001b[32m       \u001b[0m\u001b[32m return\u001b[0m\u001b[32m '\u001b[0m\u001b[32mRejected\u001b[0m\u001b[32m'\n",
      "\u001b[0m\u001b[32m    \n",
      "\u001b[0m\u001b[32m   \u001b[0m\u001b[32m #\u001b[0m\u001b[32m Rule\u001b[0m\u001b[32m \u001b[0m\u001b[32m4\u001b[0m\u001b[32m:\u001b[0m\u001b[32m Account\u001b[0m\u001b[32m Rules\u001b[0m\u001b[32m\n",
      "\u001b[0m\u001b[32m   \u001b[0m\u001b[32m accounts\u001b[0m\u001b[32m =\u001b[0m\u001b[32m data\u001b[0m\u001b[32m.get\u001b[0m\u001b[32m('\u001b[0m\u001b[32mAccount\u001b[0m\u001b[32mDetails\u001b[0m\u001b[32m',\u001b[0m\u001b[32m {}).\u001b[0m\u001b[32mget\u001b[0m\u001b[32m('\u001b[0m\u001b[32mAccount\u001b[0m\u001b[32m',\u001b[0m\u001b[32m [])\n",
      "\u001b[0m\u001b[32m   \u001b[0m\u001b[32m for\u001b[0m\u001b[32m account\u001b[0m\u001b[32m in\u001b[0m\u001b[32m accounts\u001b[0m\u001b[32m:\n",
      "\u001b[0m\u001b[32m       \u001b[0m\u001b[32m account\u001b[0m\u001b[32m_type\u001b[0m\u001b[32m =\u001b[0m\u001b[32m account\u001b[0m\u001b[32m.get\u001b[0m\u001b[32m('\u001b[0m\u001b[32mAccount\u001b[0m\u001b[32mType\u001b[0m\u001b[32m',\u001b[0m\u001b[32m '')\n",
      "\u001b[0m\u001b[32m       \u001b[0m\u001b[32m suit\u001b[0m\u001b[32m_f\u001b[0m\u001b[32miled\u001b[0m\u001b[32m_status\u001b[0m\u001b[32m =\u001b[0m\u001b[32m account\u001b[0m\u001b[32m.get\u001b[0m\u001b[32m('\u001b[0m\u001b[32mSuit\u001b[0m\u001b[32mFiled\u001b[0m\u001b[32mStatus\u001b[0m\u001b[32m',\u001b[0m\u001b[32m '\u001b[0m\u001b[32mNo\u001b[0m\u001b[32m')\n",
      "\u001b[0m\u001b[32m       \u001b[0m\u001b[32m past\u001b[0m\u001b[32m_due\u001b[0m\u001b[32m_amount\u001b[0m\u001b[32m =\u001b[0m\u001b[32m int\u001b[0m\u001b[32m(account\u001b[0m\u001b[32m.get\u001b[0m\u001b[32m('\u001b[0m\u001b[32mPast\u001b[0m\u001b[32mDue\u001b[0m\u001b[32mAmount\u001b[0m\u001b[32m',\u001b[0m\u001b[32m '\u001b[0m\u001b[32m0\u001b[0m\u001b[32m'))\n",
      "\u001b[0m\u001b[32m       \u001b[0m\u001b[32m date\u001b[0m\u001b[32m_report\u001b[0m\u001b[32med\u001b[0m\u001b[32m_str\u001b[0m\u001b[32m =\u001b[0m\u001b[32m account\u001b[0m\u001b[32m.get\u001b[0m\u001b[32m('\u001b[0m\u001b[32mDate\u001b[0m\u001b[32mReported\u001b[0m\u001b[32m',\u001b[0m\u001b[32m '')\n",
      "\u001b[0m\u001b[32m       \u001b[0m\u001b[32m date\u001b[0m\u001b[32m_report\u001b[0m\u001b[32med\u001b[0m\u001b[32m =\u001b[0m\u001b[32m datetime\u001b[0m\u001b[32m.strptime\u001b[0m\u001b[32m(date\u001b[0m\u001b[32m_report\u001b[0m\u001b[32med\u001b[0m\u001b[32m_str\u001b[0m\u001b[32m,\u001b[0m\u001b[32m '%\u001b[0m\u001b[32mY\u001b[0m\u001b[32m-%\u001b[0m\u001b[32mm\u001b[0m\u001b[32m-%\u001b[0m\u001b[32md\u001b[0m\u001b[32m')\u001b[0m\u001b[32m if\u001b[0m\u001b[32m date\u001b[0m\u001b[32m_report\u001b[0m\u001b[32med\u001b[0m\u001b[32m_str\u001b[0m\u001b[32m else\u001b[0m\u001b[32m None\u001b[0m\u001b[32m\n",
      "\u001b[0m\u001b[32m       \u001b[0m\u001b[32m account\u001b[0m\u001b[32m_status\u001b[0m\u001b[32m =\u001b[0m\u001b[32m account\u001b[0m\u001b[32m.get\u001b[0m\u001b[32m('\u001b[0m\u001b[32mAccount\u001b[0m\u001b[32mStatus\u001b[0m\u001b[32m',\u001b[0m\u001b[32m '')\n",
      "\u001b[0m\u001b[32m        \n",
      "\u001b[0m\u001b[32m       \u001b[0m\u001b[32m #\u001b[0m\u001b[32m a\u001b[0m\u001b[32m.\u001b[0m\u001b[32m Suit\u001b[0m\u001b[32mFiled\u001b[0m\u001b[32mStatus\u001b[0m\u001b[32m =\u001b[0m\u001b[32m Yes\u001b[0m\u001b[32m\n",
      "\u001b[0m\u001b[32m       \u001b[0m\u001b[32m if\u001b[0m\u001b[32m suit\u001b[0m\u001b[32m_f\u001b[0m\u001b[32miled\u001b[0m\u001b[32m_status\u001b[0m\u001b[32m ==\u001b[0m\u001b[32m '\u001b[0m\u001b[32mYes\u001b[0m\u001b[32m':\n",
      "\u001b[0m\u001b[32m           \u001b[0m\u001b[32m return\u001b[0m\u001b[32m '\u001b[0m\u001b[32mRejected\u001b[0m\u001b[32m'\n",
      "\u001b[0m\u001b[32m        \n",
      "\u001b[0m\u001b[32m       \u001b[0m\u001b[32m #\u001b[0m\u001b[32m b\u001b[0m\u001b[32m.\u001b[0m\u001b[32m Write\u001b[0m\u001b[32mOff\u001b[0m\u001b[32mAmount\u001b[0m\u001b[32m >\u001b[0m\u001b[32m \u001b[0m\u001b[32m0\u001b[0m\u001b[32m (\u001b[0m\u001b[32massuming\u001b[0m\u001b[32m Write\u001b[0m\u001b[32mOff\u001b[0m\u001b[32mAmount\u001b[0m\u001b[32m is\u001b[0m\u001b[32m part\u001b[0m\u001b[32m of\u001b[0m\u001b[32m Account\u001b[0m\u001b[32m)\n",
      "\u001b[0m\u001b[32m       \u001b[0m\u001b[32m write\u001b[0m\u001b[32m_off\u001b[0m\u001b[32m_amount\u001b[0m\u001b[32m =\u001b[0m\u001b[32m int\u001b[0m\u001b[32m(account\u001b[0m\u001b[32m.get\u001b[0m\u001b[32m('\u001b[0m\u001b[32mWrite\u001b[0m\u001b[32mOff\u001b[0m\u001b[32mAmount\u001b[0m\u001b[32m',\u001b[0m\u001b[32m '\u001b[0m\u001b[32m0\u001b[0m\u001b[32m'))\n",
      "\u001b[0m\u001b[32m       \u001b[0m\u001b[32m if\u001b[0m\u001b[32m write\u001b[0m\u001b[32m_off\u001b[0m\u001b[32m_amount\u001b[0m\u001b[32m >\u001b[0m\u001b[32m \u001b[0m\u001b[32m0\u001b[0m\u001b[32m:\n",
      "\u001b[0m\u001b[32m           \u001b[0m\u001b[32m return\u001b[0m\u001b[32m '\u001b[0m\u001b[32mRejected\u001b[0m\u001b[32m'\n",
      "\u001b[0m\u001b[32m        \n",
      "\u001b[0m\u001b[32m       \u001b[0m\u001b[32m #\u001b[0m\u001b[32m c\u001b[0m\u001b[32m.\u001b[0m\u001b[32m Past\u001b[0m\u001b[32mDue\u001b[0m\u001b[32mAmount\u001b[0m\u001b[32m >\u001b[0m\u001b[32m \u001b[0m\u001b[32m1\u001b[0m\u001b[32m,\u001b[0m\u001b[32m500\u001b[0m\u001b[32m and\u001b[0m\u001b[32m Date\u001b[0m\u001b[32mReported\u001b[0m\u001b[32m <\u001b[0m\u001b[32m \u001b[0m\u001b[32m12\u001b[0m\u001b[32m months\u001b[0m\u001b[32m\n",
      "\u001b[0m\u001b[32m       \u001b[0m\u001b[32m if\u001b[0m\u001b[32m past\u001b[0m\u001b[32m_due\u001b[0m\u001b[32m_amount\u001b[0m\u001b[32m >\u001b[0m\u001b[32m \u001b[0m\u001b[32m150\u001b[0m\u001b[32m0\u001b[0m\u001b[32m and\u001b[0m\u001b[32m date\u001b[0m\u001b[32m_report\u001b[0m\u001b[32med\u001b[0m\u001b[32m and\u001b[0m\u001b[32m (\u001b[0m\u001b[32mdatetime\u001b[0m\u001b[32m.now\u001b[0m\u001b[32m()\u001b[0m\u001b[32m -\u001b[0m\u001b[32m date\u001b[0m\u001b[32m_report\u001b[0m\u001b[32med\u001b[0m\u001b[32m).\u001b[0m\u001b[32mdays\u001b[0m\u001b[32m <\u001b[0m\u001b[32m \u001b[0m\u001b[32m365\u001b[0m\u001b[32m:\n",
      "\u001b[0m\u001b[32m           \u001b[0m\u001b[32m return\u001b[0m\u001b[32m '\u001b[0m\u001b[32mRejected\u001b[0m\u001b[32m'\n",
      "\u001b[0m\u001b[32m        \n",
      "\u001b[0m\u001b[32m       \u001b[0m\u001b[32m #\u001b[0m\u001b[32m d\u001b[0m\u001b[32m.\u001b[0m\u001b[32m Account\u001b[0m\u001b[32mStatus\u001b[0m\u001b[32m in\u001b[0m\u001b[32m {\u001b[0m\u001b[32mW\u001b[0m\u001b[32mDF\u001b[0m\u001b[32m,\u001b[0m\u001b[32m SUB\u001b[0m\u001b[32m,\u001b[0m\u001b[32m DB\u001b[0m\u001b[32mT\u001b[0m\u001b[32m,\u001b[0m\u001b[32m etc\u001b[0m\u001b[32m.\u001b[0m\u001b[32m}\n",
      "\u001b[0m\u001b[32m       \u001b[0m\u001b[32m if\u001b[0m\u001b[32m account\u001b[0m\u001b[32m_status\u001b[0m\u001b[32m in\u001b[0m\u001b[32m {'\u001b[0m\u001b[32mW\u001b[0m\u001b[32mDF\u001b[0m\u001b[32m',\u001b[0m\u001b[32m '\u001b[0m\u001b[32mSUB\u001b[0m\u001b[32m',\u001b[0m\u001b[32m '\u001b[0m\u001b[32mDB\u001b[0m\u001b[32mT\u001b[0m\u001b[32m'}\u001b[0m\u001b[32m:\n",
      "\u001b[0m\u001b[32m           \u001b[0m\u001b[32m return\u001b[0m\u001b[32m '\u001b[0m\u001b[32mRejected\u001b[0m\u001b[32m'\n",
      "\u001b[0m\u001b[32m        \n",
      "\u001b[0m\u001b[32m       \u001b[0m\u001b[32m #\u001b[0m\u001b[32m e\u001b[0m\u001b[32m.\u001b[0m\u001b[32m Past\u001b[0m\u001b[32mDue\u001b[0m\u001b[32mAmount\u001b[0m\u001b[32m >\u001b[0m\u001b[32m \u001b[0m\u001b[32m1\u001b[0m\u001b[32m,\u001b[0m\u001b[32m500\u001b[0m\u001b[32m and\u001b[0m\u001b[32m Date\u001b[0m\u001b[32mReported\u001b[0m\u001b[32m >\u001b[0m\u001b[32m \u001b[0m\u001b[32m12\u001b[0m\u001b[32m months\u001b[0m\u001b[32m\n",
      "\u001b[0m\u001b[32m       \u001b[0m\u001b[32m if\u001b[0m\u001b[32m past\u001b[0m\u001b[32m_due\u001b[0m\u001b[32m_amount\u001b[0m\u001b[32m >\u001b[0m\u001b[32m \u001b[0m\u001b[32m150\u001b[0m\u001b[32m0\u001b[0m\u001b[32m and\u001b[0m\u001b[32m date\u001b[0m\u001b[32m_report\u001b[0m\u001b[32med\u001b[0m\u001b[32m and\u001b[0m\u001b[32m (\u001b[0m\u001b[32mdatetime\u001b[0m\u001b[32m.now\u001b[0m\u001b[32m()\u001b[0m\u001b[32m -\u001b[0m\u001b[32m date\u001b[0m\u001b[32m_report\u001b[0m\u001b[32med\u001b[0m\u001b[32m).\u001b[0m\u001b[32mdays\u001b[0m\u001b[32m >\u001b[0m\u001b[32m \u001b[0m\u001b[32m365\u001b[0m\u001b[32m:\n",
      "\u001b[0m\u001b[32m           \u001b[0m\u001b[32m return\u001b[0m\u001b[32m '\u001b[0m\u001b[32mRejected\u001b[0m\u001b[32m'\n",
      "\u001b[0m\u001b[32m    \n",
      "\u001b[0m\u001b[32m   \u001b[0m\u001b[32m #\u001b[0m\u001b[32m Rule\u001b[0m\u001b[32m \u001b[0m\u001b[32m5\u001b[0m\u001b[32m:\u001b[0m\u001b[32m Credit\u001b[0m\u001b[32m Card\u001b[0m\u001b[32m Specific\u001b[0m\u001b[32m Rule\u001b[0m\u001b[32m\n",
      "\u001b[0m\u001b[32m   \u001b[0m\u001b[32m for\u001b[0m\u001b[32m account\u001b[0m\u001b[32m in\u001b[0m\u001b[32m accounts\u001b[0m\u001b[32m:\n",
      "\u001b[0m\u001b[32m       \u001b[0m\u001b[32m if\u001b[0m\u001b[32m account\u001b[0m\u001b[32m.get\u001b[0m\u001b[32m('\u001b[0m\u001b[32mAccount\u001b[0m\u001b[32mType\u001b[0m\u001b[32m',\u001b[0m\u001b[32m '')\u001b[0m\u001b[32m ==\u001b[0m\u001b[32m '\u001b[0m\u001b[32mCredit\u001b[0m\u001b[32m Card\u001b[0m\u001b[32m'\u001b[0m\u001b[32m and\u001b[0m\u001b[32m int\u001b[0m\u001b[32m(account\u001b[0m\u001b[32m.get\u001b[0m\u001b[32m('\u001b[0m\u001b[32mPast\u001b[0m\u001b[32mDue\u001b[0m\u001b[32mAmount\u001b[0m\u001b[32m',\u001b[0m\u001b[32m '\u001b[0m\u001b[32m0\u001b[0m\u001b[32m'))\u001b[0m\u001b[32m >\u001b[0m\u001b[32m \u001b[0m\u001b[32m500\u001b[0m\u001b[32m0\u001b[0m\u001b[32m:\n",
      "\u001b[0m\u001b[32m           \u001b[0m\u001b[32m return\u001b[0m\u001b[32m '\u001b[0m\u001b[32mRejected\u001b[0m\u001b[32m'\n",
      "\u001b[0m\u001b[32m    \n",
      "\u001b[0m\u001b[32m   \u001b[0m\u001b[32m return\u001b[0m\u001b[32m '\u001b[0m\u001b[32mNot\u001b[0m\u001b[32m Re\u001b[0m\u001b[32mjected\u001b[0m\u001b[32m'\n",
      "\n",
      "\u001b[0m\u001b[32m</\u001b[0m\u001b[32mpy\u001b[0m\u001b[32mfunction\u001b[0m\u001b[32m>\n",
      "\u001b[0m\u001b[32m``\u001b[0m\u001b[32m`\n",
      "\n",
      "\u001b[0m\u001b[32mThis\u001b[0m\u001b[32m function\u001b[0m\u001b[32m evaluates\u001b[0m\u001b[32m the\u001b[0m\u001b[32m credit\u001b[0m\u001b[32m score\u001b[0m\u001b[32m based\u001b[0m\u001b[32m on\u001b[0m\u001b[32m the\u001b[0m\u001b[32m given\u001b[0m\u001b[32m rules\u001b[0m\u001b[32m and\u001b[0m\u001b[32m returns\u001b[0m\u001b[32m either\u001b[0m\u001b[32m '\u001b[0m\u001b[32mRejected\u001b[0m\u001b[32m'\u001b[0m\u001b[32m or\u001b[0m\u001b[32m '\u001b[0m\u001b[32mNot\u001b[0m\u001b[32m Re\u001b[0m\u001b[32mjected\u001b[0m\u001b[32m'.\u001b[0m\u001b[32m It\u001b[0m\u001b[32m uses\u001b[0m\u001b[32m Python\u001b[0m\u001b[32m's\u001b[0m\u001b[32m built\u001b[0m\u001b[32m-in\u001b[0m\u001b[32m modules\u001b[0m\u001b[32m and\u001b[0m\u001b[32m adher\u001b[0m\u001b[32mes\u001b[0m\u001b[32m to\u001b[0m\u001b[32m the\u001b[0m\u001b[32m guidelines\u001b[0m\u001b[32m provided\u001b[0m\u001b[32m.\u001b[0m\u001b[32m\n",
      "\u001b[0m2024-10-22 00:17:36,865 - INFO - src.core.executator.main - __init__:15 - Function Loaded Successfully\n"
     ]
    },
    {
     "ename": "AttributeError",
     "evalue": "'Executator' object has no attribute 'error'",
     "output_type": "error",
     "traceback": [
      "\u001b[1;31m---------------------------------------------------------------------------\u001b[0m",
      "\u001b[1;31mAttributeError\u001b[0m                            Traceback (most recent call last)",
      "Cell \u001b[1;32mIn[5], line 10\u001b[0m\n\u001b[0;32m      1\u001b[0m agent \u001b[38;5;241m=\u001b[39m Agent(\n\u001b[0;32m      2\u001b[0m     system_message\u001b[38;5;241m=\u001b[39mSYSTEM_MESSAGE\u001b[38;5;241m.\u001b[39mformat(RULES\u001b[38;5;241m=\u001b[39mrules_str, JSON_SCHEMA\u001b[38;5;241m=\u001b[39mjson_schema),\n\u001b[0;32m      3\u001b[0m     llm_config\u001b[38;5;241m=\u001b[39m{\u001b[38;5;124m\"\u001b[39m\u001b[38;5;124mmodel\u001b[39m\u001b[38;5;124m\"\u001b[39m: \u001b[38;5;124m\"\u001b[39m\u001b[38;5;124mgpt-4o\u001b[39m\u001b[38;5;124m\"\u001b[39m},\n\u001b[0;32m      4\u001b[0m     enable_cache\u001b[38;5;241m=\u001b[39m\u001b[38;5;28;01mFalse\u001b[39;00m,\n\u001b[0;32m      5\u001b[0m     enable_logger\u001b[38;5;241m=\u001b[39m\u001b[38;5;28;01mTrue\u001b[39;00m,\n\u001b[0;32m      6\u001b[0m )\n\u001b[0;32m      8\u001b[0m agent\u001b[38;5;241m.\u001b[39mset_data(data)\n\u001b[1;32m---> 10\u001b[0m resp \u001b[38;5;241m=\u001b[39m \u001b[43magent\u001b[49m\u001b[38;5;241;43m.\u001b[39;49m\u001b[43mresolve_task\u001b[49m\u001b[43m(\u001b[49m\u001b[43mTASK\u001b[49m\u001b[43m)\u001b[49m\n",
      "File \u001b[1;32m~\\OneDrive\\Desktop\\codespace\\Python\\rules_enginee\\src\\core\\agent\\main.py:80\u001b[0m, in \u001b[0;36mAgent.resolve_task\u001b[1;34m(self, task)\u001b[0m\n\u001b[0;32m     78\u001b[0m \u001b[38;5;28;01mif\u001b[39;00m code_content \u001b[38;5;129;01mis\u001b[39;00m \u001b[38;5;28;01mNone\u001b[39;00m:\n\u001b[0;32m     79\u001b[0m     \u001b[38;5;28;01mcontinue\u001b[39;00m\n\u001b[1;32m---> 80\u001b[0m test_results, error_msg \u001b[38;5;241m=\u001b[39m \u001b[38;5;28;43mself\u001b[39;49m\u001b[38;5;241;43m.\u001b[39;49m\u001b[43m_execute_code\u001b[49m\u001b[43m(\u001b[49m\u001b[43mcode_content\u001b[49m\u001b[43m)\u001b[49m\n\u001b[0;32m     81\u001b[0m \u001b[38;5;28;01mif\u001b[39;00m error_msg \u001b[38;5;129;01mis\u001b[39;00m \u001b[38;5;28;01mNone\u001b[39;00m:\n\u001b[0;32m     82\u001b[0m     \u001b[38;5;28;01mbreak\u001b[39;00m\n",
      "File \u001b[1;32m~\\OneDrive\\Desktop\\codespace\\Python\\rules_enginee\\src\\core\\agent\\main.py:139\u001b[0m, in \u001b[0;36mAgent._execute_code\u001b[1;34m(self, code_content)\u001b[0m\n\u001b[0;32m    131\u001b[0m     result \u001b[38;5;241m=\u001b[39m TestResult(\n\u001b[0;32m    132\u001b[0m         data_id\u001b[38;5;241m=\u001b[39mitem\u001b[38;5;241m.\u001b[39mget(\u001b[38;5;124m\"\u001b[39m\u001b[38;5;124mid\u001b[39m\u001b[38;5;124m\"\u001b[39m, \u001b[38;5;28;01mNone\u001b[39;00m),\n\u001b[0;32m    133\u001b[0m         status\u001b[38;5;241m=\u001b[39mstatus,\n\u001b[0;32m    134\u001b[0m         resason\u001b[38;5;241m=\u001b[39mresason,\n\u001b[0;32m    135\u001b[0m         error\u001b[38;5;241m=\u001b[39merror,\n\u001b[0;32m    136\u001b[0m     )\n\u001b[0;32m    137\u001b[0m     executor_status\u001b[38;5;241m.\u001b[39mappend(result)\n\u001b[1;32m--> 139\u001b[0m \u001b[38;5;28;01mif\u001b[39;00m \u001b[38;5;28mall\u001b[39m(executor\u001b[38;5;241m.\u001b[39merror \u001b[38;5;129;01mis\u001b[39;00m \u001b[38;5;28;01mNone\u001b[39;00m \u001b[38;5;28;01mfor\u001b[39;00m status \u001b[38;5;129;01min\u001b[39;00m executor_status):\n\u001b[0;32m    140\u001b[0m     \u001b[38;5;28;01mreturn\u001b[39;00m executor_status, \u001b[38;5;28;01mNone\u001b[39;00m\n\u001b[0;32m    141\u001b[0m errors \u001b[38;5;241m=\u001b[39m [result\u001b[38;5;241m.\u001b[39merror \u001b[38;5;28;01mfor\u001b[39;00m result \u001b[38;5;129;01min\u001b[39;00m executor_status \u001b[38;5;28;01mif\u001b[39;00m result\u001b[38;5;241m.\u001b[39merror \u001b[38;5;129;01mis\u001b[39;00m \u001b[38;5;129;01mnot\u001b[39;00m \u001b[38;5;28;01mNone\u001b[39;00m]\n",
      "File \u001b[1;32m~\\OneDrive\\Desktop\\codespace\\Python\\rules_enginee\\src\\core\\agent\\main.py:139\u001b[0m, in \u001b[0;36m<genexpr>\u001b[1;34m(.0)\u001b[0m\n\u001b[0;32m    131\u001b[0m     result \u001b[38;5;241m=\u001b[39m TestResult(\n\u001b[0;32m    132\u001b[0m         data_id\u001b[38;5;241m=\u001b[39mitem\u001b[38;5;241m.\u001b[39mget(\u001b[38;5;124m\"\u001b[39m\u001b[38;5;124mid\u001b[39m\u001b[38;5;124m\"\u001b[39m, \u001b[38;5;28;01mNone\u001b[39;00m),\n\u001b[0;32m    133\u001b[0m         status\u001b[38;5;241m=\u001b[39mstatus,\n\u001b[0;32m    134\u001b[0m         resason\u001b[38;5;241m=\u001b[39mresason,\n\u001b[0;32m    135\u001b[0m         error\u001b[38;5;241m=\u001b[39merror,\n\u001b[0;32m    136\u001b[0m     )\n\u001b[0;32m    137\u001b[0m     executor_status\u001b[38;5;241m.\u001b[39mappend(result)\n\u001b[1;32m--> 139\u001b[0m \u001b[38;5;28;01mif\u001b[39;00m \u001b[38;5;28mall\u001b[39m(\u001b[43mexecutor\u001b[49m\u001b[38;5;241;43m.\u001b[39;49m\u001b[43merror\u001b[49m \u001b[38;5;129;01mis\u001b[39;00m \u001b[38;5;28;01mNone\u001b[39;00m \u001b[38;5;28;01mfor\u001b[39;00m status \u001b[38;5;129;01min\u001b[39;00m executor_status):\n\u001b[0;32m    140\u001b[0m     \u001b[38;5;28;01mreturn\u001b[39;00m executor_status, \u001b[38;5;28;01mNone\u001b[39;00m\n\u001b[0;32m    141\u001b[0m errors \u001b[38;5;241m=\u001b[39m [result\u001b[38;5;241m.\u001b[39merror \u001b[38;5;28;01mfor\u001b[39;00m result \u001b[38;5;129;01min\u001b[39;00m executor_status \u001b[38;5;28;01mif\u001b[39;00m result\u001b[38;5;241m.\u001b[39merror \u001b[38;5;129;01mis\u001b[39;00m \u001b[38;5;129;01mnot\u001b[39;00m \u001b[38;5;28;01mNone\u001b[39;00m]\n",
      "\u001b[1;31mAttributeError\u001b[0m: 'Executator' object has no attribute 'error'"
     ]
    }
   ],
   "source": [
    "agent = Agent(\n",
    "    system_message=SYSTEM_MESSAGE.format(RULES=rules_str, JSON_SCHEMA=json_schema),\n",
    "    llm_config={\"model\": \"gpt-4o\"},\n",
    "    enable_cache=False,\n",
    "    enable_logger=True,\n",
    ")\n",
    "\n",
    "agent.set_data(data)\n",
    "\n",
    "resp = agent.resolve_task(TASK)"
   ]
  },
  {
   "cell_type": "code",
   "execution_count": 5,
   "id": "e138e14e-761f-4f99-94c2-a2d4ef3e35f9",
   "metadata": {},
   "outputs": [],
   "source": [
    "logger.info(resp.code_content)"
   ]
  },
  {
   "cell_type": "code",
   "execution_count": 6,
   "id": "90324341-8a60-4c7e-9021-9ef01e67a45e",
   "metadata": {},
   "outputs": [
    {
     "data": {
      "text/plain": [
       "\"from datetime import datetime\\n\\ndef evaluate_credit_score(data):\\n    # Rule 1: Score < 650\\n    score_value = int(data.get('Score', {}).get('Value', '0'))\\n    if score_value < 650:\\n        return 'Rejected'\\n    \\n    # Rule 2: More than 2 PAN IDs\\n    pan_id_count = len(data.get('IDAndContactInfo', {}).get('IdentityInfo', {}).get('PANId', []))\\n    if pan_id_count > 2:\\n        return 'Rejected'\\n    \\n    # Rule 3: TotalInquiries > 3\\n    total_inquiries = int(data.get('RecentActivities', {}).get('TotalInquiries', '0'))\\n    if total_inquiries > 3:\\n        return 'Rejected'\\n    \\n    # Rule 4: Account Rules\\n    accounts = data.get('AccountDetails', {}).get('Account', [])\\n    for account in accounts:\\n        account_type = account.get('AccountType', '')\\n        suit_filed_status = account.get('SuitFiledStatus', 'No')\\n        past_due_amount = int(account.get('PastDueAmount', '0'))\\n        date_reported_str = account.get('DateReported', '')\\n        date_reported = datetime.strptime(date_reported_str, '%Y-%m-%d') if date_reported_str else None\\n        account_status = account.get('AccountStatus', '')\\n        write_off_amount = int(account.get('WriteOffAmount', '0'))\\n        \\n        # a. SuitFiledStatus = Yes\\n        if suit_filed_status == 'Yes':\\n            return 'Rejected'\\n        \\n        # b. WriteOffAmount > 0\\n        if write_off_amount > 0:\\n            return 'Rejected'\\n        \\n        # c. PastDueAmount > 1,500 and DateReported < 12 months\\n        if past_due_amount > 1500 and date_reported and (datetime.now() - date_reported).days < 365:\\n            return 'Rejected'\\n        \\n        # d. AccountStatus in {WDF, SUB, DBT, etc.}\\n        if account_status in {'WDF', 'SUB', 'DBT'}:\\n            return 'Rejected'\\n        \\n        # e. PastDueAmount > 1,500 and DateReported > 12 months\\n        if past_due_amount > 1500 and date_reported and (datetime.now() - date_reported).days > 365:\\n            return 'Rejected'\\n        \\n        # Rule 5: Credit Card Specific Rule\\n        if account_type == 'Credit Card' and past_due_amount > 5000:\\n            return 'Rejected'\\n    \\n    return 'Not Rejected'\""
      ]
     },
     "execution_count": 6,
     "metadata": {},
     "output_type": "execute_result"
    }
   ],
   "source": [
    "logger.info(resp.response_string)"
   ]
  },
  {
   "cell_type": "code",
   "execution_count": 6,
   "id": "2c8ef4d5-50dc-4462-99ab-74a9aafd285d",
   "metadata": {},
   "outputs": [
    {
     "data": {
      "text/plain": [
       "{'version': '1.0',\n",
       " 'rules_str': \"\\n1. Score < 650 THEN Reject\\n    Rule: If the credit score is less than 650, the applicant is rejected.\\n2. More than 2 PAN IDs THEN Reject\\n    Rule: If there are more than two PAN IDs, the applicant is rejected.\\n3. TotalInquiries > 3 THEN Reject\\n    Rule: If the number of total inquiries exceeds 3, the applicant is rejected.\\n4. if any Account of AccountType Excluding Credit Cards\\n    a. SuitFiledStatus = Yes THEN Reject\\n    Rule: If any Account has a 'Suit Filed' status as 'Yes', the applicant is rejected.\\n    b. WriteOffAmount > 0 THEN Reject\\n    Rule: If any Account has a WriteOffAmount greater than 0, the applicant is rejected.\\n    c. PastDueAmount > 1,500 and DateReported < 12 months THEN Reject\\n    Rule: If any Account has a PastDueAmount greater than 1,500, and DateReported is within the last 12 months and the\\n    PaymentStatus in any of the past 12 months is one of the listed delinquency statuses, the applicant is rejected.\\n    d. AccountStatus in {WDF, SUB, DBT, etc.} THEN Reject\\n    Rule: If any account has a status in the listed statuses, the applicant is rejected.\\n    e. PastDueAmount > 1,500 and DateReported > 12 months THEN Reject\\n    Rule: If any Account has a PastDueAmount greater than 1,500, DateReported is more than 12 months ago, and\\n    PaymentStatus in any of the past 6 months indicates delinquency, the applicant is rejected.\\n5. if any Account of AccountType = Credit Card  and PastDueAmount > 5,000 THEN Reject\\n    Rule: If any credit card account has a PastDueAmount greater than 5,000, the applicant is rejected.\\n\"}"
      ]
     },
     "execution_count": 6,
     "metadata": {},
     "output_type": "execute_result"
    }
   ],
   "source": [
    "{\"version\": \"1.0\", \"rules_str\": rules_str}"
   ]
  },
  {
   "cell_type": "code",
   "execution_count": null,
   "id": "64d68a04-f4e5-48dd-90d6-fd895cb15cba",
   "metadata": {},
   "outputs": [],
   "source": [
    "{\n",
    "    \"version\": \"1.0\",\n",
    "    \"rules_str\": \"\\n1. Score < 650 THEN Reject\\n    Rule: If the credit score is less than 650, the applicant is rejected.\\n2. More than 2 PAN IDs THEN Reject\\n    Rule: If there are more than two PAN IDs, the applicant is rejected.\\n3. TotalInquiries > 3 THEN Reject\\n    Rule: If the number of total inquiries exceeds 3, the applicant is rejected.\\n4. if any Account of AccountType Excluding Credit Cards\\n    a. SuitFiledStatus = Yes THEN Reject\\n    Rule: If any Account has a 'Suit Filed' status as 'Yes', the applicant is rejected.\\n    b. WriteOffAmount > 0 THEN Reject\\n    Rule: If any Account has a WriteOffAmount greater than 0, the applicant is rejected.\\n    c. PastDueAmount > 1,500 and DateReported < 12 months THEN Reject\\n    Rule: If any Account has a PastDueAmount greater than 1,500, and DateReported is within the last 12 months and the\\n    PaymentStatus in any of the past 12 months is one of the listed delinquency statuses, the applicant is rejected.\\n    d. AccountStatus in {WDF, SUB, DBT, etc.} THEN Reject\\n    Rule: If any account has a status in the listed statuses, the applicant is rejected.\\n    e. PastDueAmount > 1,500 and DateReported > 12 months THEN Reject\\n    Rule: If any Account has a PastDueAmount greater than 1,500, DateReported is more than 12 months ago, and\\n    PaymentStatus in any of the past 6 months indicates delinquency, the applicant is rejected.\\n5. if any Account of AccountType = Credit Card  and PastDueAmount > 5,000 THEN Reject\\n    Rule: If any credit card account has a PastDueAmount greater than 5,000, the applicant is rejected.\\n\",\n",
    "}"
   ]
  }
 ],
 "metadata": {
  "kernelspec": {
   "display_name": "Python 3 (ipykernel)",
   "language": "python",
   "name": "python3"
  },
  "language_info": {
   "codemirror_mode": {
    "name": "ipython",
    "version": 3
   },
   "file_extension": ".py",
   "mimetype": "text/x-python",
   "name": "python",
   "nbconvert_exporter": "python",
   "pygments_lexer": "ipython3",
   "version": "3.11.9"
  }
 },
 "nbformat": 4,
 "nbformat_minor": 5
}
